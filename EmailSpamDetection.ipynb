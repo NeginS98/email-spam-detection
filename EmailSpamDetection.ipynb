{
  "nbformat": 4,
  "nbformat_minor": 0,
  "metadata": {
    "colab": {
      "name": "EmailSpamDetection.ipynb",
      "provenance": [],
      "collapsed_sections": [],
      "authorship_tag": "ABX9TyO1vZK1JFvgHyLNG/ziUXlK",
      "include_colab_link": true
    },
    "kernelspec": {
      "name": "python3",
      "display_name": "Python 3"
    },
    "language_info": {
      "name": "python"
    }
  },
  "cells": [
    {
      "cell_type": "markdown",
      "metadata": {
        "id": "view-in-github",
        "colab_type": "text"
      },
      "source": [
        "<a href=\"https://colab.research.google.com/github/NeginS98/email-spam-detection/blob/main/EmailSpamDetection.ipynb\" target=\"_parent\"><img src=\"https://colab.research.google.com/assets/colab-badge.svg\" alt=\"Open In Colab\"/></a>"
      ]
    },
    {
      "cell_type": "code",
      "source": [
        "import pandas as pd \n",
        "import numpy as np \n",
        "import os \n",
        "import random \n",
        "import seaborn as sns\n",
        "import warnings \n",
        "%matplotlib inline\n",
        "import matplotlib.pyplot as plt\n",
        "warnings.filterwarnings('ignore')\n",
        "from sklearn import metrics"
      ],
      "metadata": {
        "id": "uRQZyyKT8w5r"
      },
      "execution_count": 3,
      "outputs": []
    },
    {
      "cell_type": "markdown",
      "source": [
        "## **Load Data**"
      ],
      "metadata": {
        "id": "rqzMWWH68GNz"
      }
    },
    {
      "cell_type": "code",
      "source": [
        "from google.colab import drive\n",
        "drive.mount('/content/drive')"
      ],
      "metadata": {
        "colab": {
          "base_uri": "https://localhost:8080/"
        },
        "id": "_YF0Ugje8Jr8",
        "outputId": "c1a19957-2b5d-4122-c73a-f48302a7d797"
      },
      "execution_count": 1,
      "outputs": [
        {
          "output_type": "stream",
          "name": "stdout",
          "text": [
            "Mounted at /content/drive\n"
          ]
        }
      ]
    },
    {
      "cell_type": "code",
      "source": [
        "!cp \"/content/drive/My Drive/Colab Notebooks/spam_ham_dataset.csv\" \"Emaildata.csv\""
      ],
      "metadata": {
        "id": "PrYyzaNz8Nrb"
      },
      "execution_count": 6,
      "outputs": []
    },
    {
      "cell_type": "code",
      "source": [
        "data = pd.read_csv('Emaildata.csv')\n",
        "data.drop('Unnamed: 0', axis=1, inplace=True)"
      ],
      "metadata": {
        "id": "ER4dC3tz825b"
      },
      "execution_count": 24,
      "outputs": []
    },
    {
      "cell_type": "code",
      "source": [
        "data.columns = ['category', 'text', 'spam_email']"
      ],
      "metadata": {
        "id": "W6iSEtI0827W"
      },
      "execution_count": 25,
      "outputs": []
    },
    {
      "cell_type": "code",
      "source": [
        "data"
      ],
      "metadata": {
        "colab": {
          "base_uri": "https://localhost:8080/",
          "height": 424
        },
        "id": "cZZdVxm-_sOm",
        "outputId": "1367c158-3a87-47ec-96ab-8e9fe29e21f7"
      },
      "execution_count": 26,
      "outputs": [
        {
          "output_type": "execute_result",
          "data": {
            "text/plain": [
              "     category                                               text  spam_email\n",
              "0         ham  Subject: enron methanol ; meter # : 988291\\r\\n...           0\n",
              "1         ham  Subject: hpl nom for january 9 , 2001\\r\\n( see...           0\n",
              "2         ham  Subject: neon retreat\\r\\nho ho ho , we ' re ar...           0\n",
              "3        spam  Subject: photoshop , windows , office . cheap ...           1\n",
              "4         ham  Subject: re : indian springs\\r\\nthis deal is t...           0\n",
              "...       ...                                                ...         ...\n",
              "5166      ham  Subject: put the 10 on the ft\\r\\nthe transport...           0\n",
              "5167      ham  Subject: 3 / 4 / 2000 and following noms\\r\\nhp...           0\n",
              "5168      ham  Subject: calpine daily gas nomination\\r\\n>\\r\\n...           0\n",
              "5169      ham  Subject: industrial worksheets for august 2000...           0\n",
              "5170     spam  Subject: important online banking alert\\r\\ndea...           1\n",
              "\n",
              "[5171 rows x 3 columns]"
            ],
            "text/html": [
              "\n",
              "  <div id=\"df-ee110a2f-10dc-489c-aaad-e2cdec79685a\">\n",
              "    <div class=\"colab-df-container\">\n",
              "      <div>\n",
              "<style scoped>\n",
              "    .dataframe tbody tr th:only-of-type {\n",
              "        vertical-align: middle;\n",
              "    }\n",
              "\n",
              "    .dataframe tbody tr th {\n",
              "        vertical-align: top;\n",
              "    }\n",
              "\n",
              "    .dataframe thead th {\n",
              "        text-align: right;\n",
              "    }\n",
              "</style>\n",
              "<table border=\"1\" class=\"dataframe\">\n",
              "  <thead>\n",
              "    <tr style=\"text-align: right;\">\n",
              "      <th></th>\n",
              "      <th>category</th>\n",
              "      <th>text</th>\n",
              "      <th>spam_email</th>\n",
              "    </tr>\n",
              "  </thead>\n",
              "  <tbody>\n",
              "    <tr>\n",
              "      <th>0</th>\n",
              "      <td>ham</td>\n",
              "      <td>Subject: enron methanol ; meter # : 988291\\r\\n...</td>\n",
              "      <td>0</td>\n",
              "    </tr>\n",
              "    <tr>\n",
              "      <th>1</th>\n",
              "      <td>ham</td>\n",
              "      <td>Subject: hpl nom for january 9 , 2001\\r\\n( see...</td>\n",
              "      <td>0</td>\n",
              "    </tr>\n",
              "    <tr>\n",
              "      <th>2</th>\n",
              "      <td>ham</td>\n",
              "      <td>Subject: neon retreat\\r\\nho ho ho , we ' re ar...</td>\n",
              "      <td>0</td>\n",
              "    </tr>\n",
              "    <tr>\n",
              "      <th>3</th>\n",
              "      <td>spam</td>\n",
              "      <td>Subject: photoshop , windows , office . cheap ...</td>\n",
              "      <td>1</td>\n",
              "    </tr>\n",
              "    <tr>\n",
              "      <th>4</th>\n",
              "      <td>ham</td>\n",
              "      <td>Subject: re : indian springs\\r\\nthis deal is t...</td>\n",
              "      <td>0</td>\n",
              "    </tr>\n",
              "    <tr>\n",
              "      <th>...</th>\n",
              "      <td>...</td>\n",
              "      <td>...</td>\n",
              "      <td>...</td>\n",
              "    </tr>\n",
              "    <tr>\n",
              "      <th>5166</th>\n",
              "      <td>ham</td>\n",
              "      <td>Subject: put the 10 on the ft\\r\\nthe transport...</td>\n",
              "      <td>0</td>\n",
              "    </tr>\n",
              "    <tr>\n",
              "      <th>5167</th>\n",
              "      <td>ham</td>\n",
              "      <td>Subject: 3 / 4 / 2000 and following noms\\r\\nhp...</td>\n",
              "      <td>0</td>\n",
              "    </tr>\n",
              "    <tr>\n",
              "      <th>5168</th>\n",
              "      <td>ham</td>\n",
              "      <td>Subject: calpine daily gas nomination\\r\\n&gt;\\r\\n...</td>\n",
              "      <td>0</td>\n",
              "    </tr>\n",
              "    <tr>\n",
              "      <th>5169</th>\n",
              "      <td>ham</td>\n",
              "      <td>Subject: industrial worksheets for august 2000...</td>\n",
              "      <td>0</td>\n",
              "    </tr>\n",
              "    <tr>\n",
              "      <th>5170</th>\n",
              "      <td>spam</td>\n",
              "      <td>Subject: important online banking alert\\r\\ndea...</td>\n",
              "      <td>1</td>\n",
              "    </tr>\n",
              "  </tbody>\n",
              "</table>\n",
              "<p>5171 rows × 3 columns</p>\n",
              "</div>\n",
              "      <button class=\"colab-df-convert\" onclick=\"convertToInteractive('df-ee110a2f-10dc-489c-aaad-e2cdec79685a')\"\n",
              "              title=\"Convert this dataframe to an interactive table.\"\n",
              "              style=\"display:none;\">\n",
              "        \n",
              "  <svg xmlns=\"http://www.w3.org/2000/svg\" height=\"24px\"viewBox=\"0 0 24 24\"\n",
              "       width=\"24px\">\n",
              "    <path d=\"M0 0h24v24H0V0z\" fill=\"none\"/>\n",
              "    <path d=\"M18.56 5.44l.94 2.06.94-2.06 2.06-.94-2.06-.94-.94-2.06-.94 2.06-2.06.94zm-11 1L8.5 8.5l.94-2.06 2.06-.94-2.06-.94L8.5 2.5l-.94 2.06-2.06.94zm10 10l.94 2.06.94-2.06 2.06-.94-2.06-.94-.94-2.06-.94 2.06-2.06.94z\"/><path d=\"M17.41 7.96l-1.37-1.37c-.4-.4-.92-.59-1.43-.59-.52 0-1.04.2-1.43.59L10.3 9.45l-7.72 7.72c-.78.78-.78 2.05 0 2.83L4 21.41c.39.39.9.59 1.41.59.51 0 1.02-.2 1.41-.59l7.78-7.78 2.81-2.81c.8-.78.8-2.07 0-2.86zM5.41 20L4 18.59l7.72-7.72 1.47 1.35L5.41 20z\"/>\n",
              "  </svg>\n",
              "      </button>\n",
              "      \n",
              "  <style>\n",
              "    .colab-df-container {\n",
              "      display:flex;\n",
              "      flex-wrap:wrap;\n",
              "      gap: 12px;\n",
              "    }\n",
              "\n",
              "    .colab-df-convert {\n",
              "      background-color: #E8F0FE;\n",
              "      border: none;\n",
              "      border-radius: 50%;\n",
              "      cursor: pointer;\n",
              "      display: none;\n",
              "      fill: #1967D2;\n",
              "      height: 32px;\n",
              "      padding: 0 0 0 0;\n",
              "      width: 32px;\n",
              "    }\n",
              "\n",
              "    .colab-df-convert:hover {\n",
              "      background-color: #E2EBFA;\n",
              "      box-shadow: 0px 1px 2px rgba(60, 64, 67, 0.3), 0px 1px 3px 1px rgba(60, 64, 67, 0.15);\n",
              "      fill: #174EA6;\n",
              "    }\n",
              "\n",
              "    [theme=dark] .colab-df-convert {\n",
              "      background-color: #3B4455;\n",
              "      fill: #D2E3FC;\n",
              "    }\n",
              "\n",
              "    [theme=dark] .colab-df-convert:hover {\n",
              "      background-color: #434B5C;\n",
              "      box-shadow: 0px 1px 3px 1px rgba(0, 0, 0, 0.15);\n",
              "      filter: drop-shadow(0px 1px 2px rgba(0, 0, 0, 0.3));\n",
              "      fill: #FFFFFF;\n",
              "    }\n",
              "  </style>\n",
              "\n",
              "      <script>\n",
              "        const buttonEl =\n",
              "          document.querySelector('#df-ee110a2f-10dc-489c-aaad-e2cdec79685a button.colab-df-convert');\n",
              "        buttonEl.style.display =\n",
              "          google.colab.kernel.accessAllowed ? 'block' : 'none';\n",
              "\n",
              "        async function convertToInteractive(key) {\n",
              "          const element = document.querySelector('#df-ee110a2f-10dc-489c-aaad-e2cdec79685a');\n",
              "          const dataTable =\n",
              "            await google.colab.kernel.invokeFunction('convertToInteractive',\n",
              "                                                     [key], {});\n",
              "          if (!dataTable) return;\n",
              "\n",
              "          const docLinkHtml = 'Like what you see? Visit the ' +\n",
              "            '<a target=\"_blank\" href=https://colab.research.google.com/notebooks/data_table.ipynb>data table notebook</a>'\n",
              "            + ' to learn more about interactive tables.';\n",
              "          element.innerHTML = '';\n",
              "          dataTable['output_type'] = 'display_data';\n",
              "          await google.colab.output.renderOutput(dataTable, element);\n",
              "          const docLink = document.createElement('div');\n",
              "          docLink.innerHTML = docLinkHtml;\n",
              "          element.appendChild(docLink);\n",
              "        }\n",
              "      </script>\n",
              "    </div>\n",
              "  </div>\n",
              "  "
            ]
          },
          "metadata": {},
          "execution_count": 26
        }
      ]
    },
    {
      "cell_type": "code",
      "source": [
        "info = pd.DataFrame({'Missing data': data.isnull().sum(), \n",
        "                     'Type of data': data.dtypes, \n",
        "                     'Count of data': len(data)})\n",
        "info"
      ],
      "metadata": {
        "colab": {
          "base_uri": "https://localhost:8080/",
          "height": 143
        },
        "id": "jNJi117D9HrY",
        "outputId": "543119f7-ec5b-4bce-f8b7-9f7661d0a941"
      },
      "execution_count": 11,
      "outputs": [
        {
          "output_type": "execute_result",
          "data": {
            "text/plain": [
              "           Missing data Type of data  Count of data\n",
              "label                 0       object           5171\n",
              "text                  0       object           5171\n",
              "label_num             0        int64           5171"
            ],
            "text/html": [
              "\n",
              "  <div id=\"df-a6e0a03e-4b52-4cec-af66-aaff9b77ac16\">\n",
              "    <div class=\"colab-df-container\">\n",
              "      <div>\n",
              "<style scoped>\n",
              "    .dataframe tbody tr th:only-of-type {\n",
              "        vertical-align: middle;\n",
              "    }\n",
              "\n",
              "    .dataframe tbody tr th {\n",
              "        vertical-align: top;\n",
              "    }\n",
              "\n",
              "    .dataframe thead th {\n",
              "        text-align: right;\n",
              "    }\n",
              "</style>\n",
              "<table border=\"1\" class=\"dataframe\">\n",
              "  <thead>\n",
              "    <tr style=\"text-align: right;\">\n",
              "      <th></th>\n",
              "      <th>Missing data</th>\n",
              "      <th>Type of data</th>\n",
              "      <th>Count of data</th>\n",
              "    </tr>\n",
              "  </thead>\n",
              "  <tbody>\n",
              "    <tr>\n",
              "      <th>label</th>\n",
              "      <td>0</td>\n",
              "      <td>object</td>\n",
              "      <td>5171</td>\n",
              "    </tr>\n",
              "    <tr>\n",
              "      <th>text</th>\n",
              "      <td>0</td>\n",
              "      <td>object</td>\n",
              "      <td>5171</td>\n",
              "    </tr>\n",
              "    <tr>\n",
              "      <th>label_num</th>\n",
              "      <td>0</td>\n",
              "      <td>int64</td>\n",
              "      <td>5171</td>\n",
              "    </tr>\n",
              "  </tbody>\n",
              "</table>\n",
              "</div>\n",
              "      <button class=\"colab-df-convert\" onclick=\"convertToInteractive('df-a6e0a03e-4b52-4cec-af66-aaff9b77ac16')\"\n",
              "              title=\"Convert this dataframe to an interactive table.\"\n",
              "              style=\"display:none;\">\n",
              "        \n",
              "  <svg xmlns=\"http://www.w3.org/2000/svg\" height=\"24px\"viewBox=\"0 0 24 24\"\n",
              "       width=\"24px\">\n",
              "    <path d=\"M0 0h24v24H0V0z\" fill=\"none\"/>\n",
              "    <path d=\"M18.56 5.44l.94 2.06.94-2.06 2.06-.94-2.06-.94-.94-2.06-.94 2.06-2.06.94zm-11 1L8.5 8.5l.94-2.06 2.06-.94-2.06-.94L8.5 2.5l-.94 2.06-2.06.94zm10 10l.94 2.06.94-2.06 2.06-.94-2.06-.94-.94-2.06-.94 2.06-2.06.94z\"/><path d=\"M17.41 7.96l-1.37-1.37c-.4-.4-.92-.59-1.43-.59-.52 0-1.04.2-1.43.59L10.3 9.45l-7.72 7.72c-.78.78-.78 2.05 0 2.83L4 21.41c.39.39.9.59 1.41.59.51 0 1.02-.2 1.41-.59l7.78-7.78 2.81-2.81c.8-.78.8-2.07 0-2.86zM5.41 20L4 18.59l7.72-7.72 1.47 1.35L5.41 20z\"/>\n",
              "  </svg>\n",
              "      </button>\n",
              "      \n",
              "  <style>\n",
              "    .colab-df-container {\n",
              "      display:flex;\n",
              "      flex-wrap:wrap;\n",
              "      gap: 12px;\n",
              "    }\n",
              "\n",
              "    .colab-df-convert {\n",
              "      background-color: #E8F0FE;\n",
              "      border: none;\n",
              "      border-radius: 50%;\n",
              "      cursor: pointer;\n",
              "      display: none;\n",
              "      fill: #1967D2;\n",
              "      height: 32px;\n",
              "      padding: 0 0 0 0;\n",
              "      width: 32px;\n",
              "    }\n",
              "\n",
              "    .colab-df-convert:hover {\n",
              "      background-color: #E2EBFA;\n",
              "      box-shadow: 0px 1px 2px rgba(60, 64, 67, 0.3), 0px 1px 3px 1px rgba(60, 64, 67, 0.15);\n",
              "      fill: #174EA6;\n",
              "    }\n",
              "\n",
              "    [theme=dark] .colab-df-convert {\n",
              "      background-color: #3B4455;\n",
              "      fill: #D2E3FC;\n",
              "    }\n",
              "\n",
              "    [theme=dark] .colab-df-convert:hover {\n",
              "      background-color: #434B5C;\n",
              "      box-shadow: 0px 1px 3px 1px rgba(0, 0, 0, 0.15);\n",
              "      filter: drop-shadow(0px 1px 2px rgba(0, 0, 0, 0.3));\n",
              "      fill: #FFFFFF;\n",
              "    }\n",
              "  </style>\n",
              "\n",
              "      <script>\n",
              "        const buttonEl =\n",
              "          document.querySelector('#df-a6e0a03e-4b52-4cec-af66-aaff9b77ac16 button.colab-df-convert');\n",
              "        buttonEl.style.display =\n",
              "          google.colab.kernel.accessAllowed ? 'block' : 'none';\n",
              "\n",
              "        async function convertToInteractive(key) {\n",
              "          const element = document.querySelector('#df-a6e0a03e-4b52-4cec-af66-aaff9b77ac16');\n",
              "          const dataTable =\n",
              "            await google.colab.kernel.invokeFunction('convertToInteractive',\n",
              "                                                     [key], {});\n",
              "          if (!dataTable) return;\n",
              "\n",
              "          const docLinkHtml = 'Like what you see? Visit the ' +\n",
              "            '<a target=\"_blank\" href=https://colab.research.google.com/notebooks/data_table.ipynb>data table notebook</a>'\n",
              "            + ' to learn more about interactive tables.';\n",
              "          element.innerHTML = '';\n",
              "          dataTable['output_type'] = 'display_data';\n",
              "          await google.colab.output.renderOutput(dataTable, element);\n",
              "          const docLink = document.createElement('div');\n",
              "          docLink.innerHTML = docLinkHtml;\n",
              "          element.appendChild(docLink);\n",
              "        }\n",
              "      </script>\n",
              "    </div>\n",
              "  </div>\n",
              "  "
            ]
          },
          "metadata": {},
          "execution_count": 11
        }
      ]
    },
    {
      "cell_type": "code",
      "source": [
        "sns.countplot(data.category, palette='Set1')"
      ],
      "metadata": {
        "colab": {
          "base_uri": "https://localhost:8080/",
          "height": 302
        },
        "id": "OvJP96FcZWlv",
        "outputId": "7917b5fd-b7a0-4ad0-d3ca-53effa9a84f9"
      },
      "execution_count": 122,
      "outputs": [
        {
          "output_type": "execute_result",
          "data": {
            "text/plain": [
              "<matplotlib.axes._subplots.AxesSubplot at 0x7f38db0f3a10>"
            ]
          },
          "metadata": {},
          "execution_count": 122
        },
        {
          "output_type": "display_data",
          "data": {
            "text/plain": [
              "<Figure size 432x288 with 1 Axes>"
            ],
            "image/png": "[encoded data removed]"
          },
          "metadata": {}
        }
      ]
    },
    {
      "cell_type": "code",
      "source": [
        "from sklearn.model_selection import train_test_split\n",
        "X = data.text\n",
        "Y = data.spam_email"
      ],
      "metadata": {
        "id": "_ogAoHonB3xD"
      },
      "execution_count": 28,
      "outputs": []
    },
    {
      "cell_type": "code",
      "source": [
        "# !pip install nlp-tools"
      ],
      "metadata": {
        "id": "1qqd2CEbFwF9"
      },
      "execution_count": 30,
      "outputs": []
    },
    {
      "cell_type": "code",
      "source": [
        "import string\n",
        "import nltk\n",
        "nltk.download('stopwords')\n",
        "from nltk.corpus import stopwords"
      ],
      "metadata": {
        "colab": {
          "base_uri": "https://localhost:8080/"
        },
        "id": "spbpOdbtGWR9",
        "outputId": "7a1e8d63-2e80-4260-f69a-ab64e02f6a7c"
      },
      "execution_count": 39,
      "outputs": [
        {
          "output_type": "stream",
          "name": "stderr",
          "text": [
            "[nltk_data] Downloading package stopwords to /root/nltk_data...\n",
            "[nltk_data]   Unzipping corpora/stopwords.zip.\n"
          ]
        }
      ]
    },
    {
      "cell_type": "code",
      "source": [
        "def precess_text(text):\n",
        "  nopunc = [char for char in text if char not in string.punctuation]\n",
        "  nopunc = ''.join(nopunc)\n",
        "  clean_words = [word for word in nopunc.split() if word.lower() not in stopwords.words('english')]\n",
        "  return clean_words"
      ],
      "metadata": {
        "id": "uZGK8kgsED81"
      },
      "execution_count": 55,
      "outputs": []
    },
    {
      "cell_type": "markdown",
      "source": [
        "## **Multinomia Model**"
      ],
      "metadata": {
        "id": "AnM87dqmRCzZ"
      }
    },
    {
      "cell_type": "code",
      "source": [
        "from sklearn.feature_extraction.text import CountVectorizer\n",
        "from sklearn.naive_bayes import MultinomialNB\n",
        "\n",
        "txt = CountVectorizer(analyzer=precess_text).fit_transform(X)"
      ],
      "metadata": {
        "id": "iffc8VN9Cev5"
      },
      "execution_count": 56,
      "outputs": []
    },
    {
      "cell_type": "code",
      "source": [
        "x_train, x_test, y_train, y_test = train_test_split(txt, Y, test_size=0.2)"
      ],
      "metadata": {
        "id": "AociJ8MYLqhX"
      },
      "execution_count": 57,
      "outputs": []
    },
    {
      "cell_type": "code",
      "source": [
        "clf = MultinomialNB()\n",
        "clf.fit(x_train, y_train)\n",
        "y_pred = clf.predict(x_test)"
      ],
      "metadata": {
        "id": "78nhGYAILy6L"
      },
      "execution_count": 59,
      "outputs": []
    },
    {
      "cell_type": "code",
      "source": [
        "from sklearn.metrics import classification_report, confusion_matrix, accuracy_score\n",
        "print(classification_report(y_test, y_pred))"
      ],
      "metadata": {
        "colab": {
          "base_uri": "https://localhost:8080/"
        },
        "id": "dVptVYatMPIH",
        "outputId": "cfd035aa-5c4a-446c-f922-1d51b3f7c8fa"
      },
      "execution_count": 60,
      "outputs": [
        {
          "output_type": "stream",
          "name": "stdout",
          "text": [
            "              precision    recall  f1-score   support\n",
            "\n",
            "           0       0.98      0.98      0.98       721\n",
            "           1       0.96      0.96      0.96       314\n",
            "\n",
            "    accuracy                           0.98      1035\n",
            "   macro avg       0.97      0.97      0.97      1035\n",
            "weighted avg       0.98      0.98      0.98      1035\n",
            "\n"
          ]
        }
      ]
    },
    {
      "cell_type": "code",
      "source": [
        "sns.heatmap(confusion_matrix(y_test, y_pred), cmap='coolwarm', annot=True, fmt='1.0f')\n",
        "plt.show()"
      ],
      "metadata": {
        "colab": {
          "base_uri": "https://localhost:8080/",
          "height": 266
        },
        "id": "dJ_qtm3uOVQM",
        "outputId": "227cc89d-a860-4543-fbc2-523d985d5480"
      },
      "execution_count": 68,
      "outputs": [
        {
          "output_type": "display_data",
          "data": {
            "text/plain": [
              "<Figure size 432x288 with 2 Axes>"
            ],
            "image/png": "[encoded data removed]"
          },
          "metadata": {
            "needs_background": "light"
          }
        }
      ]
    },
    {
      "cell_type": "code",
      "source": [
        "print('accuracy_score : ',np.round(accuracy_score(y_test, y_pred), 2))"
      ],
      "metadata": {
        "colab": {
          "base_uri": "https://localhost:8080/"
        },
        "id": "xiD74MnuNZ0D",
        "outputId": "523d09f3-5fc0-49e9-92ae-1c0990600860"
      },
      "execution_count": 72,
      "outputs": [
        {
          "output_type": "stream",
          "name": "stdout",
          "text": [
            "accuracy_score :  0.98\n"
          ]
        }
      ]
    },
    {
      "cell_type": "code",
      "source": [
        "def MultinomialNB_model(x, y, testsize):\n",
        "  eval = pd.DataFrame()\n",
        "  for TestSize in testsize:\n",
        "    x_train, x_test, y_train, y_test = train_test_split(x, y, test_size=TestSize, random_state=0)\n",
        "    clf = MultinomialNB()\n",
        "    clf.fit(x_train , y_train)\n",
        "    y_pred = clf.predict(x_test)\n",
        "    eval_dict = {'test size': TestSize, \n",
        "                 'accuracy_score': metrics.accuracy_score(y_test, y_pred),\n",
        "                 'precision_score': metrics.precision_score(y_test, y_pred),\n",
        "                 'f1_score': metrics.f1_score(y_test, y_pred),\n",
        "                 'AUC/ROC' : metrics.roc_auc_score(y_test, y_pred),\n",
        "                 'recall_score': metrics.recall_score(y_test, y_pred)\n",
        "                 }\n",
        "    eval = eval.append(eval_dict, ignore_index=True)\n",
        "  return (eval)"
      ],
      "metadata": {
        "id": "X9NAAeoLRngj"
      },
      "execution_count": 82,
      "outputs": []
    },
    {
      "cell_type": "code",
      "source": [
        "testsize = np.linspace(0.1, 0.35, 6)\n",
        "MultinomialNB_model(txt, Y, np.round(testsize, 2))"
      ],
      "metadata": {
        "colab": {
          "base_uri": "https://localhost:8080/",
          "height": 238
        },
        "id": "AWJQFhKFR7IK",
        "outputId": "0e0ceac0-2faa-448a-d4aa-84c2f26111f9"
      },
      "execution_count": 100,
      "outputs": [
        {
          "output_type": "execute_result",
          "data": {
            "text/plain": [
              "   test size  accuracy_score  precision_score  f1_score   AUC/ROC  \\\n",
              "0       0.10        0.971042         0.946667  0.949833  0.965670   \n",
              "1       0.15        0.971649         0.947368  0.951542  0.966967   \n",
              "2       0.20        0.973913         0.953947  0.955519  0.968985   \n",
              "3       0.25        0.976798         0.954545  0.959677  0.973223   \n",
              "4       0.30        0.978737         0.955711  0.961313  0.975069   \n",
              "5       0.35        0.976796         0.953033  0.958661  0.972983   \n",
              "\n",
              "   recall_score  \n",
              "0      0.953020  \n",
              "1      0.955752  \n",
              "2      0.957096  \n",
              "3      0.964865  \n",
              "4      0.966981  \n",
              "5      0.964356  "
            ],
            "text/html": [
              "\n",
              "  <div id=\"df-506e6498-287e-4b2f-9c2d-1e8b00ab107a\">\n",
              "    <div class=\"colab-df-container\">\n",
              "      <div>\n",
              "<style scoped>\n",
              "    .dataframe tbody tr th:only-of-type {\n",
              "        vertical-align: middle;\n",
              "    }\n",
              "\n",
              "    .dataframe tbody tr th {\n",
              "        vertical-align: top;\n",
              "    }\n",
              "\n",
              "    .dataframe thead th {\n",
              "        text-align: right;\n",
              "    }\n",
              "</style>\n",
              "<table border=\"1\" class=\"dataframe\">\n",
              "  <thead>\n",
              "    <tr style=\"text-align: right;\">\n",
              "      <th></th>\n",
              "      <th>test size</th>\n",
              "      <th>accuracy_score</th>\n",
              "      <th>precision_score</th>\n",
              "      <th>f1_score</th>\n",
              "      <th>AUC/ROC</th>\n",
              "      <th>recall_score</th>\n",
              "    </tr>\n",
              "  </thead>\n",
              "  <tbody>\n",
              "    <tr>\n",
              "      <th>0</th>\n",
              "      <td>0.10</td>\n",
              "      <td>0.971042</td>\n",
              "      <td>0.946667</td>\n",
              "      <td>0.949833</td>\n",
              "      <td>0.965670</td>\n",
              "      <td>0.953020</td>\n",
              "    </tr>\n",
              "    <tr>\n",
              "      <th>1</th>\n",
              "      <td>0.15</td>\n",
              "      <td>0.971649</td>\n",
              "      <td>0.947368</td>\n",
              "      <td>0.951542</td>\n",
              "      <td>0.966967</td>\n",
              "      <td>0.955752</td>\n",
              "    </tr>\n",
              "    <tr>\n",
              "      <th>2</th>\n",
              "      <td>0.20</td>\n",
              "      <td>0.973913</td>\n",
              "      <td>0.953947</td>\n",
              "      <td>0.955519</td>\n",
              "      <td>0.968985</td>\n",
              "      <td>0.957096</td>\n",
              "    </tr>\n",
              "    <tr>\n",
              "      <th>3</th>\n",
              "      <td>0.25</td>\n",
              "      <td>0.976798</td>\n",
              "      <td>0.954545</td>\n",
              "      <td>0.959677</td>\n",
              "      <td>0.973223</td>\n",
              "      <td>0.964865</td>\n",
              "    </tr>\n",
              "    <tr>\n",
              "      <th>4</th>\n",
              "      <td>0.30</td>\n",
              "      <td>0.978737</td>\n",
              "      <td>0.955711</td>\n",
              "      <td>0.961313</td>\n",
              "      <td>0.975069</td>\n",
              "      <td>0.966981</td>\n",
              "    </tr>\n",
              "    <tr>\n",
              "      <th>5</th>\n",
              "      <td>0.35</td>\n",
              "      <td>0.976796</td>\n",
              "      <td>0.953033</td>\n",
              "      <td>0.958661</td>\n",
              "      <td>0.972983</td>\n",
              "      <td>0.964356</td>\n",
              "    </tr>\n",
              "  </tbody>\n",
              "</table>\n",
              "</div>\n",
              "      <button class=\"colab-df-convert\" onclick=\"convertToInteractive('df-506e6498-287e-4b2f-9c2d-1e8b00ab107a')\"\n",
              "              title=\"Convert this dataframe to an interactive table.\"\n",
              "              style=\"display:none;\">\n",
              "        \n",
              "  <svg xmlns=\"http://www.w3.org/2000/svg\" height=\"24px\"viewBox=\"0 0 24 24\"\n",
              "       width=\"24px\">\n",
              "    <path d=\"M0 0h24v24H0V0z\" fill=\"none\"/>\n",
              "    <path d=\"M18.56 5.44l.94 2.06.94-2.06 2.06-.94-2.06-.94-.94-2.06-.94 2.06-2.06.94zm-11 1L8.5 8.5l.94-2.06 2.06-.94-2.06-.94L8.5 2.5l-.94 2.06-2.06.94zm10 10l.94 2.06.94-2.06 2.06-.94-2.06-.94-.94-2.06-.94 2.06-2.06.94z\"/><path d=\"M17.41 7.96l-1.37-1.37c-.4-.4-.92-.59-1.43-.59-.52 0-1.04.2-1.43.59L10.3 9.45l-7.72 7.72c-.78.78-.78 2.05 0 2.83L4 21.41c.39.39.9.59 1.41.59.51 0 1.02-.2 1.41-.59l7.78-7.78 2.81-2.81c.8-.78.8-2.07 0-2.86zM5.41 20L4 18.59l7.72-7.72 1.47 1.35L5.41 20z\"/>\n",
              "  </svg>\n",
              "      </button>\n",
              "      \n",
              "  <style>\n",
              "    .colab-df-container {\n",
              "      display:flex;\n",
              "      flex-wrap:wrap;\n",
              "      gap: 12px;\n",
              "    }\n",
              "\n",
              "    .colab-df-convert {\n",
              "      background-color: #E8F0FE;\n",
              "      border: none;\n",
              "      border-radius: 50%;\n",
              "      cursor: pointer;\n",
              "      display: none;\n",
              "      fill: #1967D2;\n",
              "      height: 32px;\n",
              "      padding: 0 0 0 0;\n",
              "      width: 32px;\n",
              "    }\n",
              "\n",
              "    .colab-df-convert:hover {\n",
              "      background-color: #E2EBFA;\n",
              "      box-shadow: 0px 1px 2px rgba(60, 64, 67, 0.3), 0px 1px 3px 1px rgba(60, 64, 67, 0.15);\n",
              "      fill: #174EA6;\n",
              "    }\n",
              "\n",
              "    [theme=dark] .colab-df-convert {\n",
              "      background-color: #3B4455;\n",
              "      fill: #D2E3FC;\n",
              "    }\n",
              "\n",
              "    [theme=dark] .colab-df-convert:hover {\n",
              "      background-color: #434B5C;\n",
              "      box-shadow: 0px 1px 3px 1px rgba(0, 0, 0, 0.15);\n",
              "      filter: drop-shadow(0px 1px 2px rgba(0, 0, 0, 0.3));\n",
              "      fill: #FFFFFF;\n",
              "    }\n",
              "  </style>\n",
              "\n",
              "      <script>\n",
              "        const buttonEl =\n",
              "          document.querySelector('#df-506e6498-287e-4b2f-9c2d-1e8b00ab107a button.colab-df-convert');\n",
              "        buttonEl.style.display =\n",
              "          google.colab.kernel.accessAllowed ? 'block' : 'none';\n",
              "\n",
              "        async function convertToInteractive(key) {\n",
              "          const element = document.querySelector('#df-506e6498-287e-4b2f-9c2d-1e8b00ab107a');\n",
              "          const dataTable =\n",
              "            await google.colab.kernel.invokeFunction('convertToInteractive',\n",
              "                                                     [key], {});\n",
              "          if (!dataTable) return;\n",
              "\n",
              "          const docLinkHtml = 'Like what you see? Visit the ' +\n",
              "            '<a target=\"_blank\" href=https://colab.research.google.com/notebooks/data_table.ipynb>data table notebook</a>'\n",
              "            + ' to learn more about interactive tables.';\n",
              "          element.innerHTML = '';\n",
              "          dataTable['output_type'] = 'display_data';\n",
              "          await google.colab.output.renderOutput(dataTable, element);\n",
              "          const docLink = document.createElement('div');\n",
              "          docLink.innerHTML = docLinkHtml;\n",
              "          element.appendChild(docLink);\n",
              "        }\n",
              "      </script>\n",
              "    </div>\n",
              "  </div>\n",
              "  "
            ]
          },
          "metadata": {},
          "execution_count": 100
        }
      ]
    },
    {
      "cell_type": "code",
      "source": [
        "df = MultinomialNB_model(txt, Y, np.round(testsize, 2)).set_index('test size')\n",
        "table = df.style\n",
        "def highlight_max(s, props=''):\n",
        "    return np.where(s == np.nanmax(s.values), props, '')\n",
        "table.apply(highlight_max, props='color:black;font-weight:bold;background-color:khaki', axis=0)\n",
        "table.set_caption(\"Different Accuracy Metrics for our spam detection\")\\\n",
        " .set_table_styles([{\n",
        "     'selector': 'caption',\n",
        "     'props': 'caption-side: top; font-size:1.4em; background-color: grey ;color:black ;font-family:serif',\n",
        " }], overwrite=False)"
      ],
      "metadata": {
        "colab": {
          "base_uri": "https://localhost:8080/",
          "height": 293
        },
        "id": "ujEk0_YDT6Bp",
        "outputId": "b7f0f4db-cb38-4e50-eec2-2e836cb3a245"
      },
      "execution_count": 101,
      "outputs": [
        {
          "output_type": "execute_result",
          "data": {
            "text/plain": [
              "<pandas.io.formats.style.Styler at 0x7f38db7a2750>"
            ],
            "text/html": [
              "<style type=\"text/css\">\n",
              "#T_1e13f_ caption {\n",
              "  caption-side: top;\n",
              "  font-size: 1.4em;\n",
              "  background-color: grey;\n",
              "  color: black;\n",
              "  font-family: serif;\n",
              "}\n",
              "#T_1e13f_row4_col0, #T_1e13f_row4_col1, #T_1e13f_row4_col2, #T_1e13f_row4_col3, #T_1e13f_row4_col4 {\n",
              "  color: black;\n",
              "  font-weight: bold;\n",
              "  background-color: khaki;\n",
              "}\n",
              "</style>\n",
              "<table id=\"T_1e13f_\" class=\"dataframe\">\n",
              "  <caption>Different Accuracy Metrics for our spam detection</caption>\n",
              "  <thead>\n",
              "    <tr>\n",
              "      <th class=\"blank level0\" >&nbsp;</th>\n",
              "      <th class=\"col_heading level0 col0\" >accuracy_score</th>\n",
              "      <th class=\"col_heading level0 col1\" >precision_score</th>\n",
              "      <th class=\"col_heading level0 col2\" >f1_score</th>\n",
              "      <th class=\"col_heading level0 col3\" >AUC/ROC</th>\n",
              "      <th class=\"col_heading level0 col4\" >recall_score</th>\n",
              "    </tr>\n",
              "    <tr>\n",
              "      <th class=\"index_name level0\" >test size</th>\n",
              "      <th class=\"blank col0\" >&nbsp;</th>\n",
              "      <th class=\"blank col1\" >&nbsp;</th>\n",
              "      <th class=\"blank col2\" >&nbsp;</th>\n",
              "      <th class=\"blank col3\" >&nbsp;</th>\n",
              "      <th class=\"blank col4\" >&nbsp;</th>\n",
              "    </tr>\n",
              "  </thead>\n",
              "  <tbody>\n",
              "    <tr>\n",
              "      <th id=\"T_1e13f_level0_row0\" class=\"row_heading level0 row0\" >0.1</th>\n",
              "      <td id=\"T_1e13f_row0_col0\" class=\"data row0 col0\" >0.971042</td>\n",
              "      <td id=\"T_1e13f_row0_col1\" class=\"data row0 col1\" >0.946667</td>\n",
              "      <td id=\"T_1e13f_row0_col2\" class=\"data row0 col2\" >0.949833</td>\n",
              "      <td id=\"T_1e13f_row0_col3\" class=\"data row0 col3\" >0.965670</td>\n",
              "      <td id=\"T_1e13f_row0_col4\" class=\"data row0 col4\" >0.953020</td>\n",
              "    </tr>\n",
              "    <tr>\n",
              "      <th id=\"T_1e13f_level0_row1\" class=\"row_heading level0 row1\" >0.15</th>\n",
              "      <td id=\"T_1e13f_row1_col0\" class=\"data row1 col0\" >0.971649</td>\n",
              "      <td id=\"T_1e13f_row1_col1\" class=\"data row1 col1\" >0.947368</td>\n",
              "      <td id=\"T_1e13f_row1_col2\" class=\"data row1 col2\" >0.951542</td>\n",
              "      <td id=\"T_1e13f_row1_col3\" class=\"data row1 col3\" >0.966967</td>\n",
              "      <td id=\"T_1e13f_row1_col4\" class=\"data row1 col4\" >0.955752</td>\n",
              "    </tr>\n",
              "    <tr>\n",
              "      <th id=\"T_1e13f_level0_row2\" class=\"row_heading level0 row2\" >0.2</th>\n",
              "      <td id=\"T_1e13f_row2_col0\" class=\"data row2 col0\" >0.973913</td>\n",
              "      <td id=\"T_1e13f_row2_col1\" class=\"data row2 col1\" >0.953947</td>\n",
              "      <td id=\"T_1e13f_row2_col2\" class=\"data row2 col2\" >0.955519</td>\n",
              "      <td id=\"T_1e13f_row2_col3\" class=\"data row2 col3\" >0.968985</td>\n",
              "      <td id=\"T_1e13f_row2_col4\" class=\"data row2 col4\" >0.957096</td>\n",
              "    </tr>\n",
              "    <tr>\n",
              "      <th id=\"T_1e13f_level0_row3\" class=\"row_heading level0 row3\" >0.25</th>\n",
              "      <td id=\"T_1e13f_row3_col0\" class=\"data row3 col0\" >0.976798</td>\n",
              "      <td id=\"T_1e13f_row3_col1\" class=\"data row3 col1\" >0.954545</td>\n",
              "      <td id=\"T_1e13f_row3_col2\" class=\"data row3 col2\" >0.959677</td>\n",
              "      <td id=\"T_1e13f_row3_col3\" class=\"data row3 col3\" >0.973223</td>\n",
              "      <td id=\"T_1e13f_row3_col4\" class=\"data row3 col4\" >0.964865</td>\n",
              "    </tr>\n",
              "    <tr>\n",
              "      <th id=\"T_1e13f_level0_row4\" class=\"row_heading level0 row4\" >0.3</th>\n",
              "      <td id=\"T_1e13f_row4_col0\" class=\"data row4 col0\" >0.978737</td>\n",
              "      <td id=\"T_1e13f_row4_col1\" class=\"data row4 col1\" >0.955711</td>\n",
              "      <td id=\"T_1e13f_row4_col2\" class=\"data row4 col2\" >0.961313</td>\n",
              "      <td id=\"T_1e13f_row4_col3\" class=\"data row4 col3\" >0.975069</td>\n",
              "      <td id=\"T_1e13f_row4_col4\" class=\"data row4 col4\" >0.966981</td>\n",
              "    </tr>\n",
              "    <tr>\n",
              "      <th id=\"T_1e13f_level0_row5\" class=\"row_heading level0 row5\" >0.35</th>\n",
              "      <td id=\"T_1e13f_row5_col0\" class=\"data row5 col0\" >0.976796</td>\n",
              "      <td id=\"T_1e13f_row5_col1\" class=\"data row5 col1\" >0.953033</td>\n",
              "      <td id=\"T_1e13f_row5_col2\" class=\"data row5 col2\" >0.958661</td>\n",
              "      <td id=\"T_1e13f_row5_col3\" class=\"data row5 col3\" >0.972983</td>\n",
              "      <td id=\"T_1e13f_row5_col4\" class=\"data row5 col4\" >0.964356</td>\n",
              "    </tr>\n",
              "  </tbody>\n",
              "</table>\n"
            ]
          },
          "metadata": {},
          "execution_count": 101
        }
      ]
    },
    {
      "cell_type": "code",
      "source": [
        "plt.figure(figsize=(10, 3), dpi=80)\n",
        "plt.plot(df.accuracy_score)\n",
        "plt.plot(df.precision_score)\n",
        "plt.plot(df.f1_score)\n",
        "plt.plot(df['AUC/ROC'])\n",
        "plt.plot(df.recall_score)\n",
        "plt.ylabel('Accuracy', fontfamily='serif')\n",
        "plt.xlabel('test size', fontfamily='serif')\n",
        "plt.xticks(fontfamily='serif')\n",
        "plt.yticks(fontfamily='serif')\n",
        "plt.title('Compare different Metrics for spam detection model', fontfamily='serif')\n",
        "sns.set_theme(style=\"darkgrid\")\n",
        "plt.show()"
      ],
      "metadata": {
        "colab": {
          "base_uri": "https://localhost:8080/",
          "height": 271
        },
        "id": "t7ygq6L2Vmlb",
        "outputId": "587d7215-c52a-4f15-8d84-0c8cd17e7595"
      },
      "execution_count": 111,
      "outputs": [
        {
          "output_type": "display_data",
          "data": {
            "text/plain": [
              "<Figure size 800x240 with 1 Axes>"
            ],
            "image/png": "[encoded data removed]"
          },
          "metadata": {}
        }
      ]
    }
  ]
}